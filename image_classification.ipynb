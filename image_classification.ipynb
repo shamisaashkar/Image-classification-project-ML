{
 "cells": [
  {
   "cell_type": "code",
   "execution_count": 1,
   "metadata": {},
   "outputs": [],
   "source": [
    "import matplotlib.pyplot as plt\n",
    "from datetime import datetime\n",
    "import tensorflow as tf\n",
    "import numpy as np\n",
    "import imghdr\n",
    "import cv2\n",
    "import os"
   ]
  },
  {
   "cell_type": "code",
   "execution_count": 2,
   "metadata": {},
   "outputs": [],
   "source": [
    "DATA_DIR = r\"C:\\python\\COMPUTER VISION\\tensorflow\\image_classification\\data\"\n",
    "ACCEPTED_FORMAT = [\"jpeg\" , \"jpg\" , \"png\" , \"bmp\"]\n",
    "\n",
    "# removing dodgy images\n",
    "for image_class in os.listdir(DATA_DIR):\n",
    "    for file_path in os.listdir(os.path.join(DATA_DIR , image_class)):\n",
    "\n",
    "        image_path = os.path.join(DATA_DIR , image_class , file_path)\n",
    "\n",
    "        try:\n",
    "            img = cv2.imread(image_path)\n",
    "            data_type = imghdr.what(image_path)\n",
    "\n",
    "            if data_type not in ACCEPTED_FORMAT :\n",
    "                print(\"the image with \" + str(image_path) + \"is not supported , will be removed \" )\n",
    "                os.remove(image_path)\n",
    "\n",
    "        except Exception as e:\n",
    "            print(f\"the image {image_path} could not be read\")\n",
    "            os.remove(image_path)"
   ]
  },
  {
   "cell_type": "code",
   "execution_count": null,
   "metadata": {},
   "outputs": [],
   "source": [
    "base_data = tf.keras.utils.image_dataset_from_directory(\"data\")\n",
    "data_iter = base_data.as_numpy_iterator()\n",
    "batch = data_iter.next()"
   ]
  },
  {
   "cell_type": "code",
   "execution_count": null,
   "metadata": {},
   "outputs": [],
   "source": [
    "# showing some of the images in the batch \n",
    "fig, ax = plt.subplots(ncols=5 , nrows=5 , figsize=(20,20))\n",
    "for idx, img in enumerate(batch[0][:25]):\n",
    "    ax[idx//5 , idx%5].imshow(img.astype(int))\n",
    "    ax[idx//5 , idx%5].title.set_text(batch[1][idx])"
   ]
  },
  {
   "cell_type": "code",
   "execution_count": 5,
   "metadata": {},
   "outputs": [],
   "source": [
    "# Define a map function to convert labels to one-hot encoded format\n",
    "def preprocess_data(image, label):\n",
    "    image = image / 255\n",
    "    label = tf.one_hot(label, 4)\n",
    "    return image, label"
   ]
  },
  {
   "cell_type": "code",
   "execution_count": 6,
   "metadata": {},
   "outputs": [],
   "source": [
    "from keras.utils import to_categorical\n",
    "import tensorflow.keras.backend as K\n",
    "\n",
    "# y_train = K.eval(y_train)\n",
    "data = base_data.map(preprocess_data)\n",
    "batch = data.as_numpy_iterator().next()\n",
    "\n"
   ]
  },
  {
   "cell_type": "code",
   "execution_count": null,
   "metadata": {},
   "outputs": [],
   "source": [
    "print(batch[1])"
   ]
  },
  {
   "cell_type": "code",
   "execution_count": null,
   "metadata": {},
   "outputs": [],
   "source": [
    "# showing some of the images in the batch \n",
    "fig, ax = plt.subplots(ncols=5 , nrows=5 , figsize=(20,20))\n",
    "for idx, img in enumerate(batch[0][:25]):\n",
    "    ax[idx//5 , idx%5].imshow(img)\n",
    "    ax[idx//5 , idx%5].title.set_text(batch[1][idx])"
   ]
  },
  {
   "cell_type": "code",
   "execution_count": null,
   "metadata": {},
   "outputs": [],
   "source": [
    "train_size = int(len(data) * 0.7)\n",
    "valid_size = int(len(data) * 0.2)\n",
    "test_size = int(len(data) * 0.1)\n",
    "\n",
    "print(train_size)\n",
    "print(valid_size)\n",
    "print(test_size)"
   ]
  },
  {
   "cell_type": "code",
   "execution_count": 10,
   "metadata": {},
   "outputs": [],
   "source": [
    "train_data = data.take(train_size)\n",
    "valid_data = data.skip(train_size).take(valid_size)\n",
    "test_data = data.skip(train_size + valid_size).take(test_size)"
   ]
  },
  {
   "cell_type": "code",
   "execution_count": null,
   "metadata": {},
   "outputs": [],
   "source": [
    "num_train_images = tf.data.experimental.cardinality(valid_data).numpy()\n",
    "print(\"Number of images in train dataset:\", num_train_images)"
   ]
  },
  {
   "cell_type": "code",
   "execution_count": null,
   "metadata": {},
   "outputs": [],
   "source": [
    "train_data_iter = test_data.as_numpy_iterator().next()\n",
    "print(train_data_iter[1])"
   ]
  },
  {
   "cell_type": "code",
   "execution_count": 13,
   "metadata": {},
   "outputs": [],
   "source": [
    "from tensorflow.keras.models import Sequential\n",
    "from tensorflow.keras.layers import Conv2D, MaxPooling2D, Dense, Flatten, Dropout\n",
    "from tensorflow.keras.callbacks import EarlyStopping, ModelCheckpoint, TensorBoard\n",
    "\n",
    "model = Sequential()\n",
    "\n",
    "model.add(Conv2D(16, (3,3), 1, activation='relu', input_shape=(256,256,3)))\n",
    "model.add(MaxPooling2D())\n",
    "model.add(Conv2D(32, (3,3), 1, activation='relu'))\n",
    "model.add(MaxPooling2D())\n",
    "model.add(Conv2D(16, (3,3), 1, activation='relu'))\n",
    "model.add(MaxPooling2D())\n",
    "model.add(Flatten())\n",
    "model.add(Dense(256, activation='relu'))\n",
    "model.add(Dense(4, activation='softmax'))"
   ]
  },
  {
   "cell_type": "code",
   "execution_count": 14,
   "metadata": {},
   "outputs": [
    {
     "name": "stdout",
     "output_type": "stream",
     "text": [
      "Model: \"sequential\"\n",
      "_________________________________________________________________\n",
      " Layer (type)                Output Shape              Param #   \n",
      "=================================================================\n",
      " conv2d (Conv2D)             (None, 254, 254, 16)      448       \n",
      "                                                                 \n",
      " max_pooling2d (MaxPooling2D  (None, 127, 127, 16)     0         \n",
      " )                                                               \n",
      "                                                                 \n",
      " conv2d_1 (Conv2D)           (None, 125, 125, 32)      4640      \n",
      "                                                                 \n",
      " max_pooling2d_1 (MaxPooling  (None, 62, 62, 32)       0         \n",
      " 2D)                                                             \n",
      "                                                                 \n",
      " conv2d_2 (Conv2D)           (None, 60, 60, 16)        4624      \n",
      "                                                                 \n",
      " max_pooling2d_2 (MaxPooling  (None, 30, 30, 16)       0         \n",
      " 2D)                                                             \n",
      "                                                                 \n",
      " flatten (Flatten)           (None, 14400)             0         \n",
      "                                                                 \n",
      " dense (Dense)               (None, 256)               3686656   \n",
      "                                                                 \n",
      " dense_1 (Dense)             (None, 4)                 1028      \n",
      "                                                                 \n",
      "=================================================================\n",
      "Total params: 3,697,396\n",
      "Trainable params: 3,697,396\n",
      "Non-trainable params: 0\n",
      "_________________________________________________________________\n"
     ]
    }
   ],
   "source": [
    "model.compile('adam', loss= \"categorical_crossentropy\", metrics=['accuracy'])\n",
    "model.summary()"
   ]
  },
  {
   "cell_type": "code",
   "execution_count": 15,
   "metadata": {},
   "outputs": [],
   "source": [
    "callbacks = [\n",
    "    EarlyStopping(monitor='val_loss', patience=3),\n",
    "    ModelCheckpoint(filepath='model_checkpoint.h5', monitor='val_loss', save_best_only=True),\n",
    "    TensorBoard(log_dir='logs/fit/' + datetime.now().strftime(\"%Y%m%d-%H%M%S\"))\n",
    "]"
   ]
  },
  {
   "cell_type": "code",
   "execution_count": null,
   "metadata": {},
   "outputs": [],
   "source": [
    "# Train the model\n",
    "model.fit(train_data ,\n",
    "          validation_data=valid_data , \n",
    "          epochs=50, \n",
    "          batch_size = 32 , \n",
    "          verbose = 1 , \n",
    "          callbacks=callbacks)"
   ]
  },
  {
   "cell_type": "code",
   "execution_count": null,
   "metadata": {},
   "outputs": [],
   "source": [
    "test_batch = test_data.as_numpy_iterator().next()\n",
    "print(test_batch[0][1].shape)\n",
    "plt.imshow(test_batch[0][1])\n",
    "plt.show()"
   ]
  },
  {
   "attachments": {},
   "cell_type": "markdown",
   "metadata": {},
   "source": [
    "cat : 0         coala : 1           dog : 2             eagle : 3"
   ]
  },
  {
   "cell_type": "code",
   "execution_count": null,
   "metadata": {},
   "outputs": [],
   "source": [
    "result = model.predict(np.expand_dims(test_batch[0][1] , 0))\n",
    "print(result)\n",
    "print(np.argmax(result))"
   ]
  }
 ],
 "metadata": {
  "kernelspec": {
   "display_name": "Python 3",
   "language": "python",
   "name": "python3"
  },
  "language_info": {
   "codemirror_mode": {
    "name": "ipython",
    "version": 3
   },
   "file_extension": ".py",
   "mimetype": "text/x-python",
   "name": "python",
   "nbconvert_exporter": "python",
   "pygments_lexer": "ipython3",
   "version": "3.10.3"
  },
  "orig_nbformat": 4
 },
 "nbformat": 4,
 "nbformat_minor": 2
}
